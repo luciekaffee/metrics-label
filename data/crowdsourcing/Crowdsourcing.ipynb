{
 "cells": [
  {
   "cell_type": "code",
   "execution_count": 1,
   "metadata": {},
   "outputs": [],
   "source": [
    "import json\n",
    "import numpy as np\n",
    "import pandas as pd\n",
    "import csv"
   ]
  },
  {
   "cell_type": "code",
   "execution_count": 2,
   "metadata": {},
   "outputs": [],
   "source": [
    "answers = json.load(open('all-query-results.json'))\n",
    "questions = json.load(open('all-qald-questions.json'))"
   ]
  },
  {
   "cell_type": "code",
   "execution_count": null,
   "metadata": {},
   "outputs": [],
   "source": [
    "#import sys  \n",
    "#reload(sys)  \n",
    "#sys.setdefaultencoding('utf-8')"
   ]
  },
  {
   "cell_type": "code",
   "execution_count": 3,
   "metadata": {},
   "outputs": [],
   "source": [
    "kgs = ['DBpedia', 'Wikidata', 'YAGO', 'MusicBrainz', 'LinkedMDB']"
   ]
  },
  {
   "cell_type": "code",
   "execution_count": 9,
   "metadata": {},
   "outputs": [],
   "source": [
    "def check_same(a2):\n",
    "    test = set(a2[0])\n",
    "    for x in range(1, len(a2)): \n",
    "        if set(a2[x]) != test:\n",
    "            return True\n",
    "    return False"
   ]
  },
  {
   "cell_type": "markdown",
   "metadata": {},
   "source": [
    "## Hindi"
   ]
  },
  {
   "cell_type": "code",
   "execution_count": null,
   "metadata": {},
   "outputs": [],
   "source": [
    "hi_data = []\n",
    "counter = {}\n",
    "\n",
    "        \n",
    "# Create data for Crowdsourcing: DBpedia doesn't have Hindi, and LinkedMDB only English, so those two are removed\n",
    "# If only Wikidata or only YAGO or only MusicBrainz have an answer, they would be ranked best, so we skip those answers for CrowdSourcing\n",
    "for i, qs in questions.iteritems():\n",
    "    if not 'hi_IN' in qs:\n",
    "        continue\n",
    "    if not i in answers['hi']['DBpedia']:\n",
    "        continue\n",
    "    \n",
    "    if not answers['hi']['YAGO'][i] and not answers['hi']['Wikidata'][i]:\n",
    "        continue\n",
    "    if answers['hi']['YAGO'][i] == answers['hi']['Wikidata'][i]:\n",
    "        continue\n",
    "    if answers['hi']['YAGO'][i] and not answers['hi']['Wikidata'][i] and not answers['hi']['MusicBrainz'][i]:\n",
    "        continue\n",
    "    if answers['hi']['Wikidata'][i] and not answers['hi']['YAGO'][i] and not answers['hi']['MusicBrainz'][i]:\n",
    "        continue\n",
    "    if set(answers['hi']['Wikidata'][i]) == set(answers['hi']['YAGO'][i]):\n",
    "        continue\n",
    "    #if not answers['hi']['Wikidata'][i] and not answers['hi']['YAGO'][i] and answers['hi']['MusicBrainz'][i]:\n",
    "    #    continue\n",
    "    a = {'ID': i, 'Question': qs['hi_IN'], 'Wikidata': ', '.join(answers['hi']['Wikidata'][i]), 'YAGO': ', '.join(answers['hi']['YAGO'][i])}\n",
    "    hi_data.append(a)\n",
    "print len(hi_data)"
   ]
  },
  {
   "cell_type": "code",
   "execution_count": null,
   "metadata": {},
   "outputs": [],
   "source": [
    "# encoding\n",
    "for x in range(0, len(hi_data)):\n",
    "    for k,v in hi_data[x].iteritems():\n",
    "        hi_data[x][k] = unicode(v).encode(\"utf-8\")\n",
    "    \n",
    "# write to file\n",
    "toCSV = hi_data\n",
    "keys = toCSV[0].keys()\n",
    "with open('crowdsourcing/Hindi_Questions_Answers.csv', 'wb') as output_file:\n",
    "    dict_writer = csv.DictWriter(output_file, keys)\n",
    "    dict_writer.writeheader()\n",
    "    dict_writer.writerows(toCSV)"
   ]
  },
  {
   "cell_type": "code",
   "execution_count": null,
   "metadata": {},
   "outputs": [],
   "source": [
    "crowd_en = json.load(open('crowdsourcing/crowd-en.json'))\n",
    "crowd_es = json.load(open('crowdsourcing/crowd-es.json'))"
   ]
  },
  {
   "cell_type": "markdown",
   "metadata": {},
   "source": [
    "## Spanish"
   ]
  },
  {
   "cell_type": "code",
   "execution_count": null,
   "metadata": {},
   "outputs": [],
   "source": [
    "# NOT USED\n",
    "def check_empty_one_same(lang, i):\n",
    "    a = [answers['es']['Wikidata'][i], answers['es']['DBpedia'][i], answers['es']['YAGO'][i],answers['es']['MusicBrainz'][i], answers['es']['LinkedMDB'][i]]\n",
    "    a2 = [x for x in a if x != []]\n",
    "    if not answers['es']['Wikidata'][i] and not answers['es']['DBpedia'][i] and not answers['es']['YAGO'][i] and not answers['es']['LinkedMDB'][i] and not answers['es']['MusicBrainz'][i]:\n",
    "        #print a2\n",
    "        #print 'Empty ' + i\n",
    "        return False\n",
    "    elif len(a2) < 2:\n",
    "        #print a2\n",
    "        #print 'One ' + i\n",
    "        return False\n",
    "    elif len(a2) == 2 and a2[0].sort() == a2[1].sort():\n",
    "        #print a2\n",
    "        #print 'Two same ' + i\n",
    "        return False\n",
    "    elif not check_same(a2):\n",
    "        #print a2\n",
    "        #print 'Same ' + i \n",
    "        return False"
   ]
  },
  {
   "cell_type": "code",
   "execution_count": 7,
   "metadata": {},
   "outputs": [],
   "source": []
  },
  {
   "cell_type": "code",
   "execution_count": null,
   "metadata": {},
   "outputs": [],
   "source": [
    "es_data = []\n",
    "kgs = ['DBpedia', 'Wikidata', 'YAGO', 'MusicBrainz', 'LinkedMDB']\n",
    "counter = 0\n",
    "es_data2 = []\n",
    "        \n",
    "for i, qs in questions.iteritems():\n",
    "    if not 'es' in qs:\n",
    "        continue\n",
    "    if not i in answers['es']['DBpedia']:\n",
    "        continue\n",
    "\n",
    "    a1 = [answers['es']['Wikidata'][i], answers['es']['DBpedia'][i], answers['es']['YAGO'][i],answers['es']['MusicBrainz'][i], answers['es']['LinkedMDB'][i]]\n",
    "    a2 = [x for x in a1 if x != []]\n",
    "    a3 = [' ,'.join(x) for x in a1]\n",
    "    if len(','.join(a3)) > 65500:\n",
    "        continue\n",
    "    if len(a2) > 1:\n",
    "        if len(a2) == 2 and a2[0].sort() == a2[1].sort():\n",
    "            if i not in crowd_es.keys():\n",
    "                a = {'ID': i, 'Question': qs['es'], 'Wikidata': u', '.join(answers['es']['Wikidata'][i]), 'DBpedia': u', '.join(answers['es']['DBpedia'][i]), 'YAGO': u', '.join(answers['es']['YAGO'][i]), 'MusicBrainz': u', '.join(answers['es']['MusicBrainz'][i]), 'LinkedMDB': u', '.join(answers['es']['LinkedMDB'][i])}\n",
    "                es_data.append(a)\n",
    "            continue\n",
    "        elif len(a2) > 2:\n",
    "            if not check_same(a2): \n",
    "                continue\n",
    "        \n",
    "\n",
    "print len(es_data)"
   ]
  },
  {
   "cell_type": "code",
   "execution_count": null,
   "metadata": {},
   "outputs": [],
   "source": [
    "print counter"
   ]
  },
  {
   "cell_type": "code",
   "execution_count": null,
   "metadata": {},
   "outputs": [],
   "source": [
    "# encoding\n",
    "for x in range(0, len(es_data)):\n",
    "    for k,v in es_data[x].iteritems():\n",
    "        es_data[x][k] = unicode(v).encode(\"utf-8\")\n",
    "    \n",
    "# write to file\n",
    "keys = es_data[0].keys()\n",
    "with open('crowdsourcing/Spanish_Questions_Answers-2.csv', 'wb') as output_file:\n",
    "    dict_writer = csv.DictWriter(output_file, keys)\n",
    "    dict_writer.writeheader()\n",
    "    dict_writer.writerows(es_data)"
   ]
  },
  {
   "cell_type": "markdown",
   "metadata": {},
   "source": [
    "## English"
   ]
  },
  {
   "cell_type": "code",
   "execution_count": null,
   "metadata": {},
   "outputs": [],
   "source": [
    "en_data = []\n",
    "kgs = ['DBpedia', 'Wikidata', 'YAGO', 'MusicBrainz', 'LinkedMDB']\n",
    "counter = {}\n",
    "\n",
    "        \n",
    "for i, qs in questions.iteritems():\n",
    "    if not 'en' in qs:\n",
    "        continue\n",
    "    if not i in answers['en']['DBpedia']:\n",
    "        continue\n",
    "\n",
    "    #a = {'ID': i, 'Question': qs['en'], 'Wikidata': u', '.join(answers['en']['Wikidata'][i]), 'DBpedia': u', '.join(answers['en']['DBpedia'][i]), 'YAGO': u', '.join(answers['en']['YAGO'][i]), 'MusicBrainz': u', '.join(answers['en']['MusicBrainz'][i]), 'LinkedMDB': u', '.join(answers['en']['LinkedMDB'][i])}\n",
    "\n",
    "    a1 = [answers['en']['Wikidata'][i], answers['en']['DBpedia'][i], answers['en']['YAGO'][i],answers['en']['MusicBrainz'][i], answers['en']['LinkedMDB'][i]]\n",
    "    a2 = [x for x in a1 if x != []]\n",
    "    a3 = [' ,'.join(x) for x in a1]\n",
    "    if len(','.join(a3)) > 65500:\n",
    "        continue\n",
    "    if len(a2) > 1:\n",
    "        if len(a2) == 2 and a2[0].sort() == a2[1].sort():\n",
    "            if i not in crowd_en.keys():\n",
    "                a = {'ID': i, 'Question': qs['en'], 'Wikidata': u', '.join(answers['en']['Wikidata'][i]), 'DBpedia': u', '.join(answers['en']['DBpedia'][i]), 'YAGO': u', '.join(answers['en']['YAGO'][i]), 'MusicBrainz': u', '.join(answers['en']['MusicBrainz'][i]), 'LinkedMDB': u', '.join(answers['en']['LinkedMDB'][i])}\n",
    "                en_data.append(a)\n",
    "                continue\n",
    "       # elif len(a2) > 2:\n",
    "       #     if not check_same(a2): \n",
    "       #         print i\n",
    "       #         continue\n",
    "        \n",
    "#print en_data\n",
    "print len(en_data)"
   ]
  },
  {
   "cell_type": "code",
   "execution_count": null,
   "metadata": {},
   "outputs": [],
   "source": [
    "# encoding\n",
    "for x in range(0, len(en_data)):\n",
    "    for k,v in en_data[x].iteritems():\n",
    "        en_data[x][k] = en_data[x][k].encode(\"utf-8\")\n",
    "\n",
    "# write to file\n",
    "keys = en_data[0].keys()\n",
    "with open('crowdsourcing/English_Questions_Answers-2.csv', 'wb') as output_file:\n",
    "    dict_writer = csv.DictWriter(output_file, keys)\n",
    "    dict_writer.writeheader()\n",
    "    dict_writer.writerows(en_data)"
   ]
  },
  {
   "cell_type": "markdown",
   "metadata": {},
   "source": [
    "# Create Gold Standard"
   ]
  },
  {
   "cell_type": "code",
   "execution_count": 4,
   "metadata": {},
   "outputs": [],
   "source": [
    "crowd_en = json.load(open('crowdsourcing/crowd-en.json'))\n",
    "crowd_es = json.load(open('crowdsourcing/crowd-es.json'))\n",
    "crowd_hi = json.load(open('crowdsourcing/crowd-hi.json'))"
   ]
  },
  {
   "cell_type": "code",
   "execution_count": 23,
   "metadata": {},
   "outputs": [],
   "source": [
    "def create_gold_standard(crowd, lang):\n",
    "    count = 0\n",
    "    result = {}\n",
    "    for i,_ in questions.iteritems():\n",
    "        if not i in answers[lang]['DBpedia']:\n",
    "            continue\n",
    "        if i in crowd and crowd[i]:\n",
    "            result[i] = crowd[i].replace('\\n', ',')\n",
    "            continue\n",
    "        \n",
    "        a1 = {'wd': answers[lang]['Wikidata'][i], 'db': answers[lang]['DBpedia'][i], 'yg': answers[lang]['YAGO'][i], 'mb': answers[lang]['MusicBrainz'][i], 'linked': answers[lang]['LinkedMDB'][i]}\n",
    "        a2 = {k : ', '.join(x) for k, x in a1.iteritems() if x != []}\n",
    "        a3 = [' ,'.join(x) for x in a1.values()]\n",
    "        if len(','.join(a3)) > 65500:\n",
    "            continue\n",
    "        if answers[lang]['Wikidata'][i] and not answers[lang]['DBpedia'][i] and not answers[lang]['YAGO'][i] and not answers[lang]['LinkedMDB'][i] and not answers[lang]['MusicBrainz'][i]:\n",
    "            result[i] = 'wd'\n",
    "        elif not answers[lang]['Wikidata'][i] and answers[lang]['DBpedia'][i] and not answers[lang]['YAGO'][i] and not answers[lang]['LinkedMDB'][i] and not answers[lang]['MusicBrainz'][i]:\n",
    "            result[i] = 'db'\n",
    "        elif not answers[lang]['Wikidata'][i] and not answers[lang]['DBpedia'][i] and answers[lang]['YAGO'][i] and not answers[lang]['LinkedMDB'][i] and not answers[lang]['MusicBrainz'][i]:\n",
    "            result[i] = 'yg'\n",
    "        elif not answers[lang]['Wikidata'][i] and not answers[lang]['DBpedia'][i] and not answers[lang]['YAGO'][i] and not answers[lang]['LinkedMDB'][i] and answers[lang]['MusicBrainz'][i]:\n",
    "            result[i] = 'mb'\n",
    "        elif not answers[lang]['Wikidata'][i] and not answers[lang]['DBpedia'][i] and answers[lang]['YAGO'][i] and answers[lang]['LinkedMDB'][i] and not answers[lang]['MusicBrainz'][i]:\n",
    "            result[i] = 'linked'\n",
    "        elif len(set(a2.values())) < 2:\n",
    "            result[i] = ', '.join(a2.keys())\n",
    "        elif not check_same(a2.values()):\n",
    "            result[i] = ', '.join(a2.keys())\n",
    "        else:\n",
    "            count += 1\n",
    "    print count\n",
    "    return result\n",
    "        "
   ]
  },
  {
   "cell_type": "code",
   "execution_count": null,
   "metadata": {},
   "outputs": [],
   "source": [
    "len(create_gold_standard(crowd_en, 'en'))"
   ]
  },
  {
   "cell_type": "code",
   "execution_count": 15,
   "metadata": {},
   "outputs": [
    {
     "name": "stdout",
     "output_type": "stream",
     "text": [
      "0\n",
      "10\n",
      "3\n"
     ]
    }
   ],
   "source": [
    "json.dump(create_gold_standard(crowd_en, 'en'), open('gold-standard-en.json', 'wb'))\n",
    "json.dump(create_gold_standard(crowd_es, 'es'), open('gold-standard-es.json', 'wb'))\n",
    "json.dump(create_gold_standard(crowd_hi, 'hi'), open('gold-standard-hi.json', 'wb'))"
   ]
  },
  {
   "cell_type": "code",
   "execution_count": 26,
   "metadata": {},
   "outputs": [
    {
     "name": "stdout",
     "output_type": "stream",
     "text": [
      "0\n",
      "10\n",
      "3\n",
      "English: {'': 3, u'wd': 125, u'mb': 3, 'wd, db, yg': 8, u'db': 93, u'yg': 44, u'linked': 3}\n",
      "Spanish: [(u'wd', 111), (u'db', 76), (u'yg', 50), ('', 13), ('wd, db, yg', 13), (u'linked', 5), (u'mb', 2), ('wd, db, linked, yg', 1), ('wd, db, linked', 1)]\n",
      "Hindi: [(u'wd', 113), ('', 53), (u'db', 50), (u'yg', 50), ('wd, yg', 7), (u'linked', 7), (u'mb', 2)]\n"
     ]
    }
   ],
   "source": [
    "from collections import Counter\n",
    "import operator\n",
    "\n",
    "en = create_gold_standard(crowd_en, 'en').values()\n",
    "es = create_gold_standard(crowd_es, 'es').values()\n",
    "hi = create_gold_standard(crowd_hi, 'hi').values()\n",
    "\n",
    "print 'English: ' + str(dict(sorted(Counter(en).items(), key=operator.itemgetter(1), reverse=True)))\n",
    "print 'Spanish: ' + str(sorted(Counter(es).items(), key=operator.itemgetter(1), reverse=True))\n",
    "print 'Hindi: ' + str(sorted(Counter(hi).items(), key=operator.itemgetter(1), reverse=True))"
   ]
  }
 ],
 "metadata": {
  "kernelspec": {
   "display_name": "Python 2",
   "language": "python",
   "name": "python2"
  },
  "language_info": {
   "codemirror_mode": {
    "name": "ipython",
    "version": 2
   },
   "file_extension": ".py",
   "mimetype": "text/x-python",
   "name": "python",
   "nbconvert_exporter": "python",
   "pygments_lexer": "ipython2",
   "version": "2.7.15rc1"
  }
 },
 "nbformat": 4,
 "nbformat_minor": 2
}
